{
 "cells": [
  {
   "cell_type": "markdown",
   "metadata": {},
   "source": [
    "<div class='bar_title'></div>\n",
    "\n",
    "*Enterprise AI*\n",
    "\n",
    "# Assignment 5 - Drift Detection\n",
    "\n",
    "Gunther Gust / Justus Ameling<br>\n",
    "Chair of Enterprise AI\n",
    "\n",
    "Summer Semester 2024\n",
    "\n",
    "<img src=\"https://github.com/GuntherGust/tds2_data/blob/main/images/d3.png?raw=true\" style=\"width:20%; float:left;\" />"
   ]
  },
  {
   "cell_type": "code",
   "execution_count": null,
   "metadata": {},
   "outputs": [],
   "source": [
    "!zenml init\n",
    "!zenml integration install evidently -y"
   ]
  },
  {
   "cell_type": "markdown",
   "metadata": {},
   "source": [
    "Our fifth assignment is dealing with the concept of drift detection. Drift detection is a crucial part of monitoring machine learning models in production. It helps to identify when the model's performance is degrading due to changes in the data distribution and can be helpful, especially in asses our model's performance when we do not have access to the true labels.\n",
    "\n",
    "<img src=\"./images/drift.png\" style=\"width:40%; \"/>"
   ]
  },
  {
   "cell_type": "markdown",
   "metadata": {},
   "source": [
    "We will observe drifts in the context of football data. Our task consists of predicting the value of football players based on their attributes. The club that would like to use our machine learning system has successfully won the second league and is approaching the first. The manager has decided to increase the previous transfer market limit from 1 million to 10 million euros per player. Therefore, they have requested a model that can predict the value of football players. The club has provided us with a dataset containing the attributes of football players that were evaluated in history and their market value. It also contains a long list of players they would like to evaluate."
   ]
  },
  {
   "cell_type": "markdown",
   "metadata": {},
   "source": [
    "You are provided with the first version of a machine learning system. It has some issues that you need to fix. Start by looking into the feature_engineering pipeline, then into the training pipeline, and finally into the drift detection pipeline. "
   ]
  },
  {
   "cell_type": "code",
   "execution_count": null,
   "metadata": {},
   "outputs": [],
   "source": [
    "!python run.py"
   ]
  },
  {
   "cell_type": "markdown",
   "metadata": {},
   "source": [
    "After fixing the issues, you should retrieve the data drift report and interpret the results. You can do so by using the zenml Client and the `get_artifact_version` method."
   ]
  },
  {
   "cell_type": "code",
   "execution_count": null,
   "metadata": {},
   "outputs": [],
   "source": [
    "from IPython.display import display, HTML\n",
    "from zenml.client import Client\n",
    "\n",
    "client = Client()\n",
    "drift_report = client.get_artifact_version(\"drift_report\").load()\n",
    "\n",
    "display(HTML(drift_report))"
   ]
  },
  {
   "cell_type": "markdown",
   "metadata": {},
   "source": [
    "Whicht features are drifting? What could be the reason for the drift? How would you fix the drift?"
   ]
  },
  {
   "cell_type": "code",
   "execution_count": null,
   "metadata": {},
   "outputs": [],
   "source": [
    "#ANSWER!\n",
    "#ANSWER!\n",
    "#ANSWER!"
   ]
  },
  {
   "cell_type": "markdown",
   "metadata": {},
   "source": [
    "Please Explain one of the rows in detail, including the method used to detect the drift and the results of the drift detection. To get a deeper understanding, have a look at the documentation: <a href=\"https://docs.evidentlyai.com/reference/data-drift-algorithm\">HERE</a>"
   ]
  },
  {
   "cell_type": "markdown",
   "metadata": {},
   "source": [
    "<a href=\"https://en.wikipedia.org/wiki/Wasserstein_metric\">Wasserstein Distance:</a>\n",
    "\n",
    "<a href=\"https://en.wikipedia.org/wiki/Jensen–Shannon_divergence\">Jensen–Shannon divergence</a>"
   ]
  }
 ],
 "metadata": {
  "kernelspec": {
   "display_name": "env",
   "language": "python",
   "name": "python3"
  },
  "language_info": {
   "codemirror_mode": {
    "name": "ipython",
    "version": 3
   },
   "file_extension": ".py",
   "mimetype": "text/x-python",
   "name": "python",
   "nbconvert_exporter": "python",
   "pygments_lexer": "ipython3",
   "version": "3.11.5"
  }
 },
 "nbformat": 4,
 "nbformat_minor": 2
}
